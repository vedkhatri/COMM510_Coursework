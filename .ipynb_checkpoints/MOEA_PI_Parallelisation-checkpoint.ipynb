{
 "cells": [
  {
   "cell_type": "code",
   "execution_count": 12,
   "id": "eeeecd67",
   "metadata": {},
   "outputs": [],
   "source": [
    "from pymoo.problems import get_problem\n",
    "from pymoo.util.ref_dirs import get_reference_directions\n",
    "\n",
    "from jMetalPy.jmetal.algorithm.multiobjective.nsgaii import NSGAII\n",
    "from jMetalPy.jmetal.algorithm.multiobjective.spea2 import SPEA2\n",
    "\n",
    "from jMetalPy.jmetal.operator import SBXCrossover, PolynomialMutation\n",
    "from jMetalPy.jmetal.problem.multiobjective.zdt import ZDT1, ZDT2, ZDT3, ZDT4, ZDT6\n",
    "from jMetalPy.jmetal.problem.multiobjective.dtlz import DTLZ1, DTLZ2, DTLZ3, DTLZ4, DTLZ5, DTLZ6, DTLZ7\n",
    "from jMetalPy.jmetal.util.termination_criterion import StoppingByEvaluations\n",
    "\n",
    "from jMetalPy.jmetal.lab.visualization.plotting import Plot\n",
    "from jMetalPy.jmetal.core.solution import FloatSolution\n",
    "from jMetalPy.jmetal.util.solution import get_non_dominated_solutions\n",
    "import matplotlib.pyplot as plt\n",
    "import numpy as np\n",
    "\n",
    "from jMetalPy.jmetal.core.quality_indicator import InvertedGenerationalDistance"
   ]
  },
  {
   "cell_type": "code",
   "execution_count": 13,
   "id": "a5fe5404",
   "metadata": {},
   "outputs": [],
   "source": [
    "from concurrent.futures import ThreadPoolExecutor"
   ]
  },
  {
   "cell_type": "code",
   "execution_count": 14,
   "id": "a4c91ce7",
   "metadata": {},
   "outputs": [
    {
     "name": "stdout",
     "output_type": "stream",
     "text": [
      "(105, 3)\n"
     ]
    }
   ],
   "source": [
    "p = get_problem('dtlz1')\n",
    "ref_dirs = get_reference_directions('das-dennis', n_dim=3, n_partitions=13)\n",
    "pareto = p.pareto_front(ref_dirs)\n",
    "print(pareto.shape)"
   ]
  },
  {
   "cell_type": "code",
   "execution_count": null,
   "id": "caecfc6b",
   "metadata": {},
   "outputs": [
    {
     "name": "stderr",
     "output_type": "stream",
     "text": [
      "[2023-07-09 23:20:00,241] [jmetal.core.algorithm] [DEBUG] Creating initial set of solutions...\n",
      "[2023-07-09 23:20:00,243] [jmetal.core.algorithm] [DEBUG] Creating initial set of solutions...\n",
      "[2023-07-09 23:20:00,245] [jmetal.core.algorithm] [DEBUG] Evaluating solutions...\n",
      "[2023-07-09 23:20:00,247] [jmetal.core.algorithm] [DEBUG] Evaluating solutions...\n",
      "[2023-07-09 23:20:00,249] [jmetal.core.algorithm] [DEBUG] Initializing progress...\n",
      "[2023-07-09 23:20:00,251] [jmetal.core.algorithm] [DEBUG] Initializing progress...\n",
      "[2023-07-09 23:20:00,251] [jmetal.core.algorithm] [DEBUG] Running main loop until termination criteria is met\n",
      "[2023-07-09 23:20:00,252] [jmetal.core.algorithm] [DEBUG] Running main loop until termination criteria is met\n"
     ]
    }
   ],
   "source": [
    "problem = DTLZ1(number_of_variables=7)\n",
    "\n",
    "max_evaluations = 30e4\n",
    "\n",
    "algorithm1 = NSGAII(\n",
    "    problem=problem,\n",
    "    population_size=100,\n",
    "    offspring_population_size=100,\n",
    "    mutation=PolynomialMutation(probability=1.0 / 7.0, distribution_index=20),\n",
    "    crossover=SBXCrossover(probability=1.0, distribution_index=20),\n",
    "    termination_criterion=StoppingByEvaluations(max_evaluations)\n",
    ")\n",
    "\n",
    "algorithm2 = SPEA2(\n",
    "    problem=problem,\n",
    "    population_size=100,\n",
    "    offspring_population_size=100,\n",
    "    mutation=PolynomialMutation(probability=1.0 / 7.0, distribution_index=20),\n",
    "    crossover=SBXCrossover(probability=1.0, distribution_index=20),\n",
    "    termination_criterion=StoppingByEvaluations(max_evaluations)\n",
    ")\n",
    "\n",
    "# Function to run the algorithm\n",
    "def run_algorithm(algorithm):\n",
    "    algorithm.run()\n",
    "    return algorithm.get_result()\n",
    "\n",
    "# Create a ThreadPoolExecutor\n",
    "executor = ThreadPoolExecutor()\n",
    "\n",
    "# Submit the algorithms to the executor for parallel execution\n",
    "future1 = executor.submit(run_algorithm, algorithm1)\n",
    "future2 = executor.submit(run_algorithm, algorithm2)\n",
    "\n",
    "# Retrieve the results from the futures\n",
    "solutions1 = future1.result()\n",
    "solutions2 = future2.result()"
   ]
  },
  {
   "cell_type": "code",
   "execution_count": null,
   "id": "92bc0bec",
   "metadata": {},
   "outputs": [],
   "source": [
    "front1 = get_non_dominated_solutions(solutions1)\n",
    "front2 = get_non_dominated_solutions(solutions2)\n",
    "\n",
    "nsgaii_front = Plot.get_points(front1)\n",
    "spea2_front = Plot.get_points(front2)\n",
    "\n",
    "if len(nsgaii_front[0]) == 3:\n",
    "    fig = plt.figure(figsize = (10, 7))\n",
    "    ax = plt.axes(projection =\"3d\")\n",
    "    ax.scatter3D(*zip(*pareto), c='k', s=5, label='True Pareto')\n",
    "    ax.scatter3D(*zip(*nsgaii_front), c='b', s=5, label='NSGA-II')\n",
    "    ax.scatter3D(*zip(*spea2_front), c='r', s=5, label='SPEA2')\n",
    "\n",
    "elif len(nsgaii_front[0]) == 2:\n",
    "    plt.scatter(*zip(*pareto), c='k', s=3, label='True Pareto')\n",
    "    plt.scatter(*zip(*nsgaii_front), c='gold', s=3, label='NSGA-II')\n",
    "    plt.scatter(*zip(*spea2_front), c='magenta', s=3, label='SPEA2')\n",
    "\n",
    "plt.legend()\n",
    "plt.show()"
   ]
  },
  {
   "cell_type": "code",
   "execution_count": null,
   "id": "0b338c36",
   "metadata": {},
   "outputs": [],
   "source": [
    "print(len(front1))\n",
    "print(len(front2))\n",
    "print(len(pareto))"
   ]
  },
  {
   "cell_type": "code",
   "execution_count": null,
   "id": "215416c2",
   "metadata": {},
   "outputs": [],
   "source": []
  }
 ],
 "metadata": {
  "kernelspec": {
   "display_name": "Python 3 (ipykernel)",
   "language": "python",
   "name": "python3"
  },
  "language_info": {
   "codemirror_mode": {
    "name": "ipython",
    "version": 3
   },
   "file_extension": ".py",
   "mimetype": "text/x-python",
   "name": "python",
   "nbconvert_exporter": "python",
   "pygments_lexer": "ipython3",
   "version": "3.9.17"
  }
 },
 "nbformat": 4,
 "nbformat_minor": 5
}
