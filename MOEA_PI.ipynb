{
 "cells": [
  {
   "cell_type": "markdown",
   "metadata": {
    "colab_type": "text",
    "id": "view-in-github"
   },
   "source": [
    "<a href=\"https://colab.research.google.com/github/vedkhatri/COMM510_Coursework/blob/main/MOEA_PI.ipynb\" target=\"_parent\"><img src=\"https://colab.research.google.com/assets/colab-badge.svg\" alt=\"Open In Colab\"/></a>"
   ]
  },
  {
   "cell_type": "code",
   "execution_count": 1,
   "metadata": {
    "id": "OkXEuENgNGYV"
   },
   "outputs": [
    {
     "name": "stdout",
     "output_type": "stream",
     "text": [
      "Intel MKL WARNING: Support of Intel(R) Streaming SIMD Extensions 4.2 (Intel(R) SSE4.2) enabled only processors has been deprecated. Intel oneAPI Math Kernel Library 2025.0 will require Intel(R) Advanced Vector Extensions (Intel(R) AVX) instructions.\n",
      "Intel MKL WARNING: Support of Intel(R) Streaming SIMD Extensions 4.2 (Intel(R) SSE4.2) enabled only processors has been deprecated. Intel oneAPI Math Kernel Library 2025.0 will require Intel(R) Advanced Vector Extensions (Intel(R) AVX) instructions.\n"
     ]
    }
   ],
   "source": [
    "from pymoo.problems import get_problem\n",
    "from pymoo.util.ref_dirs import get_reference_directions\n",
    "\n",
    "from jMetalPy.jmetal.algorithm.multiobjective.nsgaii import NSGAII\n",
    "from jMetalPy.jmetal.algorithm.multiobjective.spea2 import SPEA2\n",
    "\n",
    "from jMetalPy.jmetal.operator import SBXCrossover, PolynomialMutation\n",
    "from jMetalPy.jmetal.problem.multiobjective.zdt import ZDT1, ZDT2, ZDT3, ZDT4, ZDT6\n",
    "from jMetalPy.jmetal.problem.multiobjective.dtlz import DTLZ1, DTLZ2, DTLZ3, DTLZ4, DTLZ5, DTLZ6, DTLZ7\n",
    "from jMetalPy.jmetal.util.termination_criterion import StoppingByEvaluations\n",
    "\n",
    "from jMetalPy.jmetal.lab.visualization.plotting import Plot\n",
    "from jMetalPy.jmetal.core.solution import FloatSolution\n",
    "from jMetalPy.jmetal.util.solution import get_non_dominated_solutions\n",
    "import matplotlib.pyplot as plt\n",
    "import numpy as np\n",
    "\n",
    "from jMetalPy.jmetal.core.quality_indicator import InvertedGenerationalDistance"
   ]
  },
  {
   "cell_type": "code",
   "execution_count": 61,
   "metadata": {},
   "outputs": [
    {
     "name": "stdout",
     "output_type": "stream",
     "text": [
      "(100, 2)\n"
     ]
    }
   ],
   "source": [
    "p = get_problem('zdt1')\n",
    "#ref_dirs = get_reference_directions('das-dennis', n_dim=3, n_partitions=13)\n",
    "pareto = p.pareto_front()\n",
    "print(pareto.shape)"
   ]
  },
  {
   "cell_type": "code",
   "execution_count": 68,
   "metadata": {
    "colab": {
     "base_uri": "https://localhost:8080/"
    },
    "id": "inwiHysiNcSq",
    "outputId": "e59b2978-62b3-4fb4-fceb-3eada594bf33"
   },
   "outputs": [
    {
     "name": "stderr",
     "output_type": "stream",
     "text": [
      "[2023-07-11 17:35:14,700] [jmetal.core.algorithm] [DEBUG] Creating initial set of solutions...\n",
      "[2023-07-11 17:35:14,705] [jmetal.core.algorithm] [DEBUG] Evaluating solutions...\n",
      "[2023-07-11 17:35:14,706] [jmetal.core.algorithm] [DEBUG] Initializing progress...\n",
      "[2023-07-11 17:35:14,707] [jmetal.core.algorithm] [DEBUG] Running main loop until termination criteria is met\n",
      "[2023-07-11 17:35:18,609] [jmetal.core.algorithm] [DEBUG] Finished!\n",
      "[2023-07-11 17:35:18,609] [jmetal.core.algorithm] [DEBUG] Creating initial set of solutions...\n",
      "[2023-07-11 17:35:18,611] [jmetal.core.algorithm] [DEBUG] Evaluating solutions...\n",
      "[2023-07-11 17:35:18,611] [jmetal.core.algorithm] [DEBUG] Initializing progress...\n",
      "[2023-07-11 17:35:18,612] [jmetal.core.algorithm] [DEBUG] Running main loop until termination criteria is met\n",
      "[2023-07-11 17:39:29,607] [jmetal.core.algorithm] [DEBUG] Finished!\n"
     ]
    }
   ],
   "source": [
    "problem = ZDT1(number_of_variables=30)\n",
    "\n",
    "max_evaluations = 16e3\n",
    "\n",
    "algorithm1 = NSGAII(\n",
    "    problem=problem,\n",
    "    population_size=100,\n",
    "    offspring_population_size=100,\n",
    "    mutation=PolynomialMutation(probability= 1.0/30.0, distribution_index=20),\n",
    "    crossover=SBXCrossover(probability=1.0, distribution_index=20),\n",
    "    termination_criterion=StoppingByEvaluations(max_evaluations)\n",
    ")\n",
    "\n",
    "algorithm2 = SPEA2(\n",
    "    problem=problem,\n",
    "    population_size=100,\n",
    "    offspring_population_size=100,\n",
    "    mutation=PolynomialMutation(probability= 1.0/30.0, distribution_index=20),\n",
    "    crossover=SBXCrossover(probability=1.0, distribution_index=20),\n",
    "    termination_criterion=StoppingByEvaluations(max_evaluations)\n",
    ")\n",
    "\n",
    "algorithm1.run()\n",
    "algorithm2.run()\n",
    "solutions1 = algorithm1.get_result()\n",
    "solutions2 = algorithm2.get_result()"
   ]
  },
  {
   "cell_type": "code",
   "execution_count": 69,
   "metadata": {
    "colab": {
     "base_uri": "https://localhost:8080/",
     "height": 470
    },
    "id": "mZiurC_bNgec",
    "outputId": "3a889610-3e00-444f-c551-831c1f5776a7"
   },
   "outputs": [
    {
     "data": {
      "image/png": "[encoded data removed]",
      "text/plain": [
       "<Figure size 640x480 with 1 Axes>"
      ]
     },
     "metadata": {},
     "output_type": "display_data"
    }
   ],
   "source": [
    "front1 = get_non_dominated_solutions(solutions1)\n",
    "front2 = get_non_dominated_solutions(solutions2)\n",
    "\n",
    "nsgaii_front = Plot.get_points(front1)\n",
    "spea2_front = Plot.get_points(front2)\n",
    "\n",
    "if len(nsgaii_front[0]) == 3:\n",
    "    fig = plt.figure(figsize = (10, 7))\n",
    "    ax = plt.axes(projection =\"3d\")\n",
    "    ax.scatter3D(*zip(*pareto), c='k', s=5, label='True Pareto')\n",
    "    ax.scatter3D(*zip(*nsgaii_front), c='b', s=5, label='NSGA-II')\n",
    "    ax.scatter3D(*zip(*spea2_front), c='r', s=5, label='SPEA2')\n",
    "\n",
    "elif len(nsgaii_front[0]) == 2:\n",
    "    plt.scatter(*zip(*pareto), c='k', s=3, label='True Pareto')\n",
    "    plt.scatter(*zip(*nsgaii_front), c='b', s=3, label='NSGA-II')\n",
    "    plt.scatter(*zip(*spea2_front), c='r', s=3, label='SPEA2')\n",
    "\n",
    "plt.title(f'Evaluations:%d' %max_evaluations)\n",
    "plt.legend()\n",
    "plt.show()"
   ]
  },
  {
   "cell_type": "code",
   "execution_count": 54,
   "metadata": {
    "colab": {
     "base_uri": "https://localhost:8080/"
    },
    "id": "7XQYI3jMmn_n",
    "outputId": "3c7b685a-6114-428b-81d3-d3d8e25f1bb2"
   },
   "outputs": [
    {
     "name": "stdout",
     "output_type": "stream",
     "text": [
      "99\n",
      "100\n"
     ]
    }
   ],
   "source": [
    "#igd_pi = InvertedGenerationalDistance(front)\n",
    "#soln = problem.evaluate(solutions)\n",
    "#igd_pts = igd_pi.compute(soln)\n",
    "print(len(nsgaii_front))\n",
    "print(len(spea2_front))"
   ]
  },
  {
   "cell_type": "code",
   "execution_count": 38,
   "metadata": {
    "id": "K3PYPyHsm0bf"
   },
   "outputs": [
    {
     "name": "stdout",
     "output_type": "stream",
     "text": [
      "IGD [NSGA-II]: 1.8704375527688775\n",
      "IGD [SPEA2]: 1.7499577037717275\n"
     ]
    }
   ],
   "source": [
    "from pymoo.indicators.igd import IGD\n",
    "\n",
    "ind = IGD(pareto)\n",
    "\n",
    "nsgaii_front = np.array(nsgaii_front)\n",
    "spea2_front = np.array(spea2_front)\n",
    "\n",
    "print(\"IGD [NSGA-II]:\", ind(nsgaii_front))\n",
    "print(\"IGD [SPEA2]:\", ind(spea2_front))"
   ]
  },
  {
   "cell_type": "code",
   "execution_count": 39,
   "metadata": {},
   "outputs": [
    {
     "name": "stdout",
     "output_type": "stream",
     "text": [
      "Delta [NSGA-II]: 0.10908112147270875\n",
      "Delta [SPEA2]: 0.11574763855972894\n"
     ]
    }
   ],
   "source": [
    "from scipy.spatial.distance import cdist\n",
    "def delta_metric(algo_front, true_front):\n",
    "    n = len(algo_front)\n",
    "    distances = cdist(algo_front, true_front, metric='euclidean')\n",
    "    closest_distances = np.min(distances, axis=1)\n",
    "    df = np.min(closest_distances)\n",
    "    dl = np.max(closest_distances)\n",
    "    d_avg = np.mean(closest_distances)\n",
    "    delta = (df + dl + np.sum(closest_distances - d_avg)) / (df + dl + (n - 1) * d_avg)\n",
    "    return delta\n",
    "\n",
    "nsgaii_front = np.array(nsgaii_front)\n",
    "spea2_front = np.array(spea2_front)\n",
    "\n",
    "delta1 = delta_metric(nsgaii_front, pareto)\n",
    "delta2 = delta_metric(spea2_front, pareto)\n",
    "\n",
    "print('Delta [NSGA-II]:', delta1)\n",
    "print('Delta [SPEA2]:', delta2)"
   ]
  },
  {
   "cell_type": "code",
   "execution_count": 34,
   "metadata": {},
   "outputs": [
    {
     "name": "stdout",
     "output_type": "stream",
     "text": [
      "HV [NSGA-II]: 0.5120264610402134\n",
      "HV [SPEA2]: 0.6789113220682698\n",
      "True_HV 0.7213987565051487\n"
     ]
    }
   ],
   "source": [
    "from pymoo.indicators.hv import HV\n",
    "\n",
    "nsgaii_front = np.array(nsgaii_front)\n",
    "spea2_front = np.array(spea2_front)\n",
    "\n",
    "if delta1 > delta2:\n",
    "    ref_point = np.max(spea2_front, axis=0)\n",
    "else:\n",
    "    ref_point = np.max(nsgaii_front, axis=0)\n",
    "\n",
    "ind = HV(ref_point=ref_point)\n",
    "\n",
    "print('HV [NSGA-II]:', ind(nsgaii_front))\n",
    "print('HV [SPEA2]:', ind(spea2_front))\n",
    "print('True_HV', ind(np.array(pareto)))"
   ]
  },
  {
   "cell_type": "code",
   "execution_count": null,
   "metadata": {},
   "outputs": [],
   "source": []
  }
 ],
 "metadata": {
  "colab": {
   "authorship_tag": "ABX9TyMguKj3uu+lSBeFhWEqRVtc",
   "include_colab_link": true,
   "provenance": []
  },
  "kernelspec": {
   "display_name": "Python 3 (ipykernel)",
   "language": "python",
   "name": "python3"
  },
  "language_info": {
   "codemirror_mode": {
    "name": "ipython",
    "version": 3
   },
   "file_extension": ".py",
   "mimetype": "text/x-python",
   "name": "python",
   "nbconvert_exporter": "python",
   "pygments_lexer": "ipython3",
   "version": "3.9.17"
  }
 },
 "nbformat": 4,
 "nbformat_minor": 4
}
