{
  "nbformat": 4,
  "nbformat_minor": 0,
  "metadata": {
    "colab": {
      "provenance": [],
      "authorship_tag": "ABX9TyMguKj3uu+lSBeFhWEqRVtc",
      "include_colab_link": true
    },
    "kernelspec": {
      "name": "python3",
      "display_name": "Python 3"
    },
    "language_info": {
      "name": "python"
    }
  },
  "cells": [
    {
      "cell_type": "markdown",
      "metadata": {
        "id": "view-in-github",
        "colab_type": "text"
      },
      "source": [
        "<a href=\"https://colab.research.google.com/github/vedkhatri/COMM510_Coursework/blob/main/MOEA_PI.ipynb\" target=\"_parent\"><img src=\"https://colab.research.google.com/assets/colab-badge.svg\" alt=\"Open In Colab\"/></a>"
      ]
    },
    {
      "cell_type": "code",
      "execution_count": 40,
      "metadata": {
        "colab": {
          "base_uri": "https://localhost:8080/"
        },
        "id": "AcTJ7ixQNEd6",
        "outputId": "3f954b34-cba9-4b59-c460-72fa35114ea3"
      },
      "outputs": [
        {
          "output_type": "stream",
          "name": "stdout",
          "text": [
            "Requirement already satisfied: jmetalpy in /usr/local/lib/python3.10/dist-packages (1.6.0)\n",
            "Requirement already satisfied: tqdm in /usr/local/lib/python3.10/dist-packages (from jmetalpy) (4.65.0)\n",
            "Requirement already satisfied: numpy>=1.16.0 in /usr/local/lib/python3.10/dist-packages (from jmetalpy) (1.22.4)\n",
            "Requirement already satisfied: pandas>=0.24.2 in /usr/local/lib/python3.10/dist-packages (from jmetalpy) (1.5.3)\n",
            "Requirement already satisfied: plotly>=3.3.0 in /usr/local/lib/python3.10/dist-packages (from jmetalpy) (5.13.1)\n",
            "Requirement already satisfied: matplotlib>=3.0.2 in /usr/local/lib/python3.10/dist-packages (from jmetalpy) (3.7.1)\n",
            "Requirement already satisfied: scipy>=1.3.0 in /usr/local/lib/python3.10/dist-packages (from jmetalpy) (1.10.1)\n",
            "Requirement already satisfied: statsmodels>=0.9.0 in /usr/local/lib/python3.10/dist-packages (from jmetalpy) (0.13.5)\n",
            "Requirement already satisfied: contourpy>=1.0.1 in /usr/local/lib/python3.10/dist-packages (from matplotlib>=3.0.2->jmetalpy) (1.1.0)\n",
            "Requirement already satisfied: cycler>=0.10 in /usr/local/lib/python3.10/dist-packages (from matplotlib>=3.0.2->jmetalpy) (0.11.0)\n",
            "Requirement already satisfied: fonttools>=4.22.0 in /usr/local/lib/python3.10/dist-packages (from matplotlib>=3.0.2->jmetalpy) (4.40.0)\n",
            "Requirement already satisfied: kiwisolver>=1.0.1 in /usr/local/lib/python3.10/dist-packages (from matplotlib>=3.0.2->jmetalpy) (1.4.4)\n",
            "Requirement already satisfied: packaging>=20.0 in /usr/local/lib/python3.10/dist-packages (from matplotlib>=3.0.2->jmetalpy) (23.1)\n",
            "Requirement already satisfied: pillow>=6.2.0 in /usr/local/lib/python3.10/dist-packages (from matplotlib>=3.0.2->jmetalpy) (8.4.0)\n",
            "Requirement already satisfied: pyparsing>=2.3.1 in /usr/local/lib/python3.10/dist-packages (from matplotlib>=3.0.2->jmetalpy) (3.1.0)\n",
            "Requirement already satisfied: python-dateutil>=2.7 in /usr/local/lib/python3.10/dist-packages (from matplotlib>=3.0.2->jmetalpy) (2.8.2)\n",
            "Requirement already satisfied: pytz>=2020.1 in /usr/local/lib/python3.10/dist-packages (from pandas>=0.24.2->jmetalpy) (2022.7.1)\n",
            "Requirement already satisfied: tenacity>=6.2.0 in /usr/local/lib/python3.10/dist-packages (from plotly>=3.3.0->jmetalpy) (8.2.2)\n",
            "Requirement already satisfied: patsy>=0.5.2 in /usr/local/lib/python3.10/dist-packages (from statsmodels>=0.9.0->jmetalpy) (0.5.3)\n",
            "Requirement already satisfied: six in /usr/local/lib/python3.10/dist-packages (from patsy>=0.5.2->statsmodels>=0.9.0->jmetalpy) (1.16.0)\n"
          ]
        }
      ],
      "source": [
        "pip install jmetalpy"
      ]
    },
    {
      "cell_type": "code",
      "source": [
        "from jmetal.algorithm.multiobjective.nsgaii import NSGAII\n",
        "from jmetal.algorithm.multiobjective.spea2 import SPEA2\n",
        "\n",
        "from jmetal.operator import SBXCrossover, PolynomialMutation\n",
        "from jmetal.problem.multiobjective.zdt import ZDT1, ZDT2, ZDT3, ZDT4, ZDT6\n",
        "from jmetal.problem.multiobjective.dtlz import DTLZ1, DTLZ2, DTLZ3, DTLZ4, DTLZ5, DTLZ6, DTLZ7\n",
        "from jmetal.util.termination_criterion import StoppingByEvaluations\n",
        "\n",
        "from jmetal.lab.visualization.plotting import Plot\n",
        "from jmetal.util.solution import get_non_dominated_solutions\n",
        "import matplotlib.pyplot as plt\n",
        "\n",
        "from jmetal.core.quality_indicator import InvertedGenerationalDistance"
      ],
      "metadata": {
        "id": "OkXEuENgNGYV"
      },
      "execution_count": 41,
      "outputs": []
    },
    {
      "cell_type": "code",
      "source": [
        "problem = ZDT1(number_of_variables=50)\n",
        "\n",
        "max_evaluations = 1e4\n",
        "\n",
        "algorithm1 = NSGAII(\n",
        "    problem=problem,\n",
        "    population_size=100,\n",
        "    offspring_population_size=100,\n",
        "    mutation=PolynomialMutation(probability= 1.0/50.0, distribution_index=20),\n",
        "    crossover=SBXCrossover(probability=1.0, distribution_index=20),\n",
        "    termination_criterion=StoppingByEvaluations(max_evaluations)\n",
        ")\n",
        "\n",
        "algorithm2 = SPEA2(\n",
        "    problem=problem,\n",
        "    population_size=100,\n",
        "    offspring_population_size=100,\n",
        "    mutation=PolynomialMutation(probability= 1.0/50.0, distribution_index=20),\n",
        "    crossover=SBXCrossover(probability=1.0, distribution_index=20),\n",
        "    termination_criterion=StoppingByEvaluations(max_evaluations)\n",
        ")\n",
        "\n",
        "algorithm1.run()\n",
        "algorithm2.run()\n",
        "solutions1 = algorithm1.get_result()\n",
        "solutions2 = algorithm2.get_result()"
      ],
      "metadata": {
        "colab": {
          "base_uri": "https://localhost:8080/"
        },
        "id": "inwiHysiNcSq",
        "outputId": "e59b2978-62b3-4fb4-fceb-3eada594bf33"
      },
      "execution_count": 42,
      "outputs": [
        {
          "output_type": "stream",
          "name": "stderr",
          "text": [
            "[2023-07-08 13:53:26,452] [jmetal.core.algorithm] [DEBUG] Creating initial set of solutions...\n",
            "DEBUG:jmetal.core.algorithm:Creating initial set of solutions...\n",
            "[2023-07-08 13:53:26,460] [jmetal.core.algorithm] [DEBUG] Evaluating solutions...\n",
            "DEBUG:jmetal.core.algorithm:Evaluating solutions...\n",
            "[2023-07-08 13:53:26,464] [jmetal.core.algorithm] [DEBUG] Initializing progress...\n",
            "DEBUG:jmetal.core.algorithm:Initializing progress...\n",
            "[2023-07-08 13:53:26,467] [jmetal.core.algorithm] [DEBUG] Running main loop until termination criteria is met\n",
            "DEBUG:jmetal.core.algorithm:Running main loop until termination criteria is met\n",
            "[2023-07-08 13:53:33,052] [jmetal.core.algorithm] [DEBUG] Finished!\n",
            "DEBUG:jmetal.core.algorithm:Finished!\n",
            "[2023-07-08 13:53:33,065] [jmetal.core.algorithm] [DEBUG] Creating initial set of solutions...\n",
            "DEBUG:jmetal.core.algorithm:Creating initial set of solutions...\n",
            "[2023-07-08 13:53:33,072] [jmetal.core.algorithm] [DEBUG] Evaluating solutions...\n",
            "DEBUG:jmetal.core.algorithm:Evaluating solutions...\n",
            "[2023-07-08 13:53:33,081] [jmetal.core.algorithm] [DEBUG] Initializing progress...\n",
            "DEBUG:jmetal.core.algorithm:Initializing progress...\n",
            "[2023-07-08 13:53:33,088] [jmetal.core.algorithm] [DEBUG] Running main loop until termination criteria is met\n",
            "DEBUG:jmetal.core.algorithm:Running main loop until termination criteria is met\n",
            "[2023-07-08 13:53:56,012] [jmetal.core.algorithm] [DEBUG] Finished!\n",
            "DEBUG:jmetal.core.algorithm:Finished!\n"
          ]
        }
      ]
    },
    {
      "cell_type": "code",
      "source": [
        "front1 = get_non_dominated_solutions(solutions1)\n",
        "front2 = get_non_dominated_solutions(solutions2)\n",
        "\n",
        "nsga_pts = Plot.get_points(front1)\n",
        "print(nsga_pts)\n",
        "\n",
        "\n",
        "plt.scatter(x_ax, y_ax, color='b')\n",
        "plt.show()\n",
        "#nsgaii_plot = plot_front.plot(front1)\n",
        "#spea2_plot = plot_front.plot(front2, label='SPEA2-ZDT1')"
      ],
      "metadata": {
        "id": "mZiurC_bNgec",
        "colab": {
          "base_uri": "https://localhost:8080/",
          "height": 470
        },
        "outputId": "3a889610-3e00-444f-c551-831c1f5776a7"
      },
      "execution_count": 51,
      "outputs": [
        {
          "output_type": "stream",
          "name": "stdout",
          "text": [
            "(           0         1\n",
            "0   0.000007  1.107056\n",
            "1   0.994310  0.059482\n",
            "2   0.261392  0.588780\n",
            "3   0.574518  0.305451\n",
            "4   0.341153  0.494505\n",
            "..       ...       ...\n",
            "95  0.146351  0.719852\n",
            "96  0.098624  0.788767\n",
            "97  0.764282  0.201343\n",
            "98  0.494759  0.374062\n",
            "99  0.305649  0.546500\n",
            "\n",
            "[100 rows x 2 columns], 2)\n"
          ]
        },
        {
          "output_type": "error",
          "ename": "NameError",
          "evalue": "ignored",
          "traceback": [
            "\u001b[0;31m---------------------------------------------------------------------------\u001b[0m",
            "\u001b[0;31mNameError\u001b[0m                                 Traceback (most recent call last)",
            "\u001b[0;32m<ipython-input-51-9be10bdb040a>\u001b[0m in \u001b[0;36m<cell line: 8>\u001b[0;34m()\u001b[0m\n\u001b[1;32m      6\u001b[0m \u001b[0;34m\u001b[0m\u001b[0m\n\u001b[1;32m      7\u001b[0m \u001b[0;34m\u001b[0m\u001b[0m\n\u001b[0;32m----> 8\u001b[0;31m \u001b[0mplt\u001b[0m\u001b[0;34m.\u001b[0m\u001b[0mscatter\u001b[0m\u001b[0;34m(\u001b[0m\u001b[0mx_ax\u001b[0m\u001b[0;34m,\u001b[0m \u001b[0my_ax\u001b[0m\u001b[0;34m,\u001b[0m \u001b[0mcolor\u001b[0m\u001b[0;34m=\u001b[0m\u001b[0;34m'b'\u001b[0m\u001b[0;34m)\u001b[0m\u001b[0;34m\u001b[0m\u001b[0;34m\u001b[0m\u001b[0m\n\u001b[0m\u001b[1;32m      9\u001b[0m \u001b[0mplt\u001b[0m\u001b[0;34m.\u001b[0m\u001b[0mshow\u001b[0m\u001b[0;34m(\u001b[0m\u001b[0;34m)\u001b[0m\u001b[0;34m\u001b[0m\u001b[0;34m\u001b[0m\u001b[0m\n\u001b[1;32m     10\u001b[0m \u001b[0;31m#nsgaii_plot = plot_front.plot(front1)\u001b[0m\u001b[0;34m\u001b[0m\u001b[0;34m\u001b[0m\u001b[0m\n",
            "\u001b[0;31mNameError\u001b[0m: name 'x_ax' is not defined"
          ]
        }
      ]
    },
    {
      "cell_type": "code",
      "source": [
        "#igd_pi = InvertedGenerationalDistance(front)\n",
        "#soln = problem.evaluate(solutions)\n",
        "#igd_pts = igd_pi.compute(soln)\n",
        "print(len(front))"
      ],
      "metadata": {
        "colab": {
          "base_uri": "https://localhost:8080/"
        },
        "id": "7XQYI3jMmn_n",
        "outputId": "3c7b685a-6114-428b-81d3-d3d8e25f1bb2"
      },
      "execution_count": null,
      "outputs": [
        {
          "output_type": "stream",
          "name": "stdout",
          "text": [
            "72\n"
          ]
        }
      ]
    },
    {
      "cell_type": "code",
      "source": [],
      "metadata": {
        "id": "K3PYPyHsm0bf"
      },
      "execution_count": null,
      "outputs": []
    }
  ]
}