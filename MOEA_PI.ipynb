{
 "cells": [
  {
   "cell_type": "markdown",
   "metadata": {
    "colab_type": "text",
    "id": "view-in-github"
   },
   "source": [
    "<a href=\"https://colab.research.google.com/github/vedkhatri/COMM510_Coursework/blob/main/MOEA_PI.ipynb\" target=\"_parent\"><img src=\"https://colab.research.google.com/assets/colab-badge.svg\" alt=\"Open In Colab\"/></a>"
   ]
  },
  {
   "cell_type": "code",
   "execution_count": 16,
   "metadata": {
    "id": "OkXEuENgNGYV"
   },
   "outputs": [],
   "source": [
    "from pymoo.problems import get_problem\n",
    "from pymoo.util.ref_dirs import get_reference_directions\n",
    "\n",
    "from jMetalPy.jmetal.algorithm.multiobjective.nsgaii import NSGAII\n",
    "from jMetalPy.jmetal.algorithm.multiobjective.ibea import IBEA\n",
    "\n",
    "from jMetalPy.jmetal.operator import SBXCrossover, PolynomialMutation\n",
    "from jMetalPy.jmetal.problem.multiobjective.zdt import ZDT1, ZDT2, ZDT3, ZDT4, ZDT6\n",
    "from jMetalPy.jmetal.problem.multiobjective.dtlz import DTLZ1, DTLZ2, DTLZ3, DTLZ4, DTLZ5, DTLZ6, DTLZ7\n",
    "from jMetalPy.jmetal.util.termination_criterion import StoppingByEvaluations\n",
    "\n",
    "from jMetalPy.jmetal.lab.visualization.plotting import Plot\n",
    "from jMetalPy.jmetal.core.solution import FloatSolution\n",
    "from jMetalPy.jmetal.util.solution import get_non_dominated_solutions\n",
    "import matplotlib.pyplot as plt\n",
    "import numpy as np\n",
    "\n",
    "from jMetalPy.jmetal.core.quality_indicator import InvertedGenerationalDistance"
   ]
  },
  {
   "cell_type": "code",
   "execution_count": 17,
   "metadata": {},
   "outputs": [
    {
     "name": "stdout",
     "output_type": "stream",
     "text": [
      "(100, 2)\n"
     ]
    }
   ],
   "source": [
    "p = get_problem('zdt1')\n",
    "#ref_dirs = get_reference_directions('das-dennis', n_dim=3, n_partitions=13)\n",
    "pareto = p.pareto_front()\n",
    "print(pareto.shape)"
   ]
  },
  {
   "cell_type": "code",
   "execution_count": 18,
   "metadata": {
    "colab": {
     "base_uri": "https://localhost:8080/"
    },
    "id": "inwiHysiNcSq",
    "outputId": "e59b2978-62b3-4fb4-fceb-3eada594bf33"
   },
   "outputs": [
    {
     "name": "stderr",
     "output_type": "stream",
     "text": [
      "[2023-07-10 15:25:08,896] [jmetal.core.algorithm] [DEBUG] Creating initial set of solutions...\n",
      "[2023-07-10 15:25:08,899] [jmetal.core.algorithm] [DEBUG] Evaluating solutions...\n",
      "[2023-07-10 15:25:08,900] [jmetal.core.algorithm] [DEBUG] Initializing progress...\n",
      "[2023-07-10 15:25:08,901] [jmetal.core.algorithm] [DEBUG] Running main loop until termination criteria is met\n",
      "[2023-07-10 15:26:23,919] [jmetal.core.algorithm] [DEBUG] Finished!\n",
      "[2023-07-10 15:26:23,919] [jmetal.core.algorithm] [DEBUG] Creating initial set of solutions...\n",
      "[2023-07-10 15:26:23,952] [jmetal.core.algorithm] [DEBUG] Evaluating solutions...\n",
      "[2023-07-10 15:26:23,953] [jmetal.core.algorithm] [DEBUG] Initializing progress...\n",
      "[2023-07-10 15:26:23,954] [jmetal.core.algorithm] [DEBUG] Running main loop until termination criteria is met\n",
      "[2023-07-10 15:35:11,664] [jmetal.core.algorithm] [DEBUG] Finished!\n"
     ]
    }
   ],
   "source": [
    "problem = ZDT1(number_of_variables=30)\n",
    "\n",
    "max_evaluations = 30e4\n",
    "\n",
    "algorithm1 = NSGAII(\n",
    "    problem=problem,\n",
    "    population_size=100,\n",
    "    offspring_population_size=100,\n",
    "    mutation=PolynomialMutation(probability= 1.0/30.0, distribution_index=20),\n",
    "    crossover=SBXCrossover(probability=1.0, distribution_index=20),\n",
    "    termination_criterion=StoppingByEvaluations(max_evaluations)\n",
    ")\n",
    "\n",
    "algorithm2 = IBEA(\n",
    "    problem=problem,\n",
    "    kappa=1.,\n",
    "    population_size=100,\n",
    "    offspring_population_size=100,\n",
    "    mutation=PolynomialMutation(probability= 1.0/30.0, distribution_index=20),\n",
    "    crossover=SBXCrossover(probability=1.0, distribution_index=20),\n",
    "    termination_criterion=StoppingByEvaluations(max_evaluations)\n",
    ")\n",
    "\n",
    "algorithm1.run()\n",
    "algorithm2.run()\n",
    "solutions1 = algorithm1.get_result()\n",
    "solutions2 = algorithm2.get_result()"
   ]
  },
  {
   "cell_type": "code",
   "execution_count": 19,
   "metadata": {
    "colab": {
     "base_uri": "https://localhost:8080/",
     "height": 470
    },
    "id": "mZiurC_bNgec",
    "outputId": "3a889610-3e00-444f-c551-831c1f5776a7"
   },
   "outputs": [
    {
     "data": {
      "image/png": "[encoded data removed]",
      "text/plain": [
       "<Figure size 640x480 with 1 Axes>"
      ]
     },
     "metadata": {},
     "output_type": "display_data"
    }
   ],
   "source": [
    "front1 = get_non_dominated_solutions(solutions1)\n",
    "front2 = get_non_dominated_solutions(solutions2)\n",
    "\n",
    "nsgaii_front = Plot.get_points(front1)\n",
    "spea2_front = Plot.get_points(front2)\n",
    "\n",
    "if len(nsgaii_front[0]) == 3:\n",
    "    fig = plt.figure(figsize = (10, 7))\n",
    "    ax = plt.axes(projection =\"3d\")\n",
    "    ax.scatter3D(*zip(*pareto), c='k', s=5, label='True Pareto')\n",
    "    ax.scatter3D(*zip(*nsgaii_front), c='b', s=5, label='NSGA-II')\n",
    "    ax.scatter3D(*zip(*spea2_front), c='r', s=5, label='SPEA2')\n",
    "\n",
    "elif len(nsgaii_front[0]) == 2:\n",
    "    plt.scatter(*zip(*pareto), c='k', s=3, label='True Pareto')\n",
    "    plt.scatter(*zip(*nsgaii_front), c='b', s=3, label='NSGA-II')\n",
    "    plt.scatter(*zip(*spea2_front), c='r', s=3, label='SPEA2')\n",
    "\n",
    "plt.legend()\n",
    "plt.show()\n",
    "#nsgaii_plot = plot_front.plot(front1)\n",
    "#spea2_plot = plot_front.plot(front2, label='SPEA2-ZDT1')"
   ]
  },
  {
   "cell_type": "code",
   "execution_count": 20,
   "metadata": {
    "colab": {
     "base_uri": "https://localhost:8080/"
    },
    "id": "7XQYI3jMmn_n",
    "outputId": "3c7b685a-6114-428b-81d3-d3d8e25f1bb2"
   },
   "outputs": [
    {
     "name": "stdout",
     "output_type": "stream",
     "text": [
      "99\n",
      "6\n",
      "100\n"
     ]
    }
   ],
   "source": [
    "#igd_pi = InvertedGenerationalDistance(front)\n",
    "#soln = problem.evaluate(solutions)\n",
    "#igd_pts = igd_pi.compute(soln)\n",
    "print(len(front1))\n",
    "print(len(front2))\n",
    "print(len(pareto))"
   ]
  },
  {
   "cell_type": "code",
   "execution_count": null,
   "metadata": {
    "id": "K3PYPyHsm0bf"
   },
   "outputs": [],
   "source": []
  }
 ],
 "metadata": {
  "colab": {
   "authorship_tag": "ABX9TyMguKj3uu+lSBeFhWEqRVtc",
   "include_colab_link": true,
   "provenance": []
  },
  "kernelspec": {
   "display_name": "Python 3 (ipykernel)",
   "language": "python",
   "name": "python3"
  },
  "language_info": {
   "codemirror_mode": {
    "name": "ipython",
    "version": 3
   },
   "file_extension": ".py",
   "mimetype": "text/x-python",
   "name": "python",
   "nbconvert_exporter": "python",
   "pygments_lexer": "ipython3",
   "version": "3.9.17"
  }
 },
 "nbformat": 4,
 "nbformat_minor": 4
}
